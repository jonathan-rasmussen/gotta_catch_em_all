{
 "cells": [
  {
   "cell_type": "code",
   "execution_count": 1,
   "id": "unable-marshall",
   "metadata": {},
   "outputs": [],
   "source": [
    "import pandas as pd\n",
    "import numpy as np\n",
    "from PIL import Image\n",
    "from tensorflow import keras\n",
    "import os\n",
    "from os import listdir\n",
    "from os.path import isfile, join\n",
    "import cv2\n",
    "import matplotlib.pyplot as plt"
   ]
  },
  {
   "cell_type": "code",
   "execution_count": 2,
   "id": "suffering-nation",
   "metadata": {},
   "outputs": [],
   "source": [
    "resize_res = 224\n",
    "\n",
    "def load_image(file):\n",
    "    try:\n",
    "        image = Image.open(\n",
    "            file\n",
    "        ).convert('LA').resize((resize_res, resize_res))\n",
    "        arr = np.array(image)\n",
    "    except:\n",
    "        print('Problem!')\n",
    "        arr = np.zeros((resize_res, resize_res, 2))\n",
    "    return arr"
   ]
  },
  {
   "cell_type": "code",
   "execution_count": 3,
   "id": "twelve-douglas",
   "metadata": {},
   "outputs": [],
   "source": [
    "model = keras.models.load_model('Point_Predicted_Cropping')"
   ]
  },
  {
   "cell_type": "code",
   "execution_count": 4,
   "id": "federal-cleveland",
   "metadata": {},
   "outputs": [],
   "source": [
    "def crop_image(file, out):\n",
    "    x_padding = 15\n",
    "    y_top_padding = 5\n",
    "    y_bottom_padding = 15\n",
    "    \n",
    "    x_shape = plt.imread(file).shape[1]\n",
    "    y_shape = plt.imread(file).shape[0]\n",
    "    \n",
    "    prediction = model.predict(np.array([load_image(file)]))\n",
    "    \n",
    "    x = [a * x_shape / resize_res for a in [prediction['x1'][0][0]-x_padding, prediction['x2'][0][0]+x_padding, prediction['x3'][0][0]+x_padding, prediction['x4'][0][0]-x_padding]]\n",
    "    y = [a * y_shape / resize_res for a in [prediction['y1'][0][0]-y_top_padding, prediction['y2'][0][0]-y_top_padding, prediction['y3'][0][0]+y_bottom_padding, prediction['y4'][0][0]+y_bottom_padding]]\n",
    "    \n",
    "    \n",
    "    def get_position(ind):\n",
    "        if x[ind] in sorted(x)[:2] and y[ind] in sorted(y)[:2]:\n",
    "            return 'top-left'\n",
    "        elif x[ind] in sorted(x)[2:] and y[ind] in sorted(y)[:2]:\n",
    "            return 'top-right'\n",
    "        elif x[ind] in sorted(x)[:2] and y[ind] in sorted(y)[2:]:\n",
    "            return 'bottom-left'\n",
    "        else:\n",
    "            return 'bottom-right'\n",
    "\n",
    "    positions = [get_position(i) for i in range(4)]\n",
    "    \n",
    "    top_left_x = x[positions.index('top-left')]\n",
    "    top_left_y = y[positions.index('top-left')]\n",
    "    \n",
    "    top_right_x = x[positions.index('top-right')]\n",
    "    top_right_y = y[positions.index('top-right')]\n",
    "    \n",
    "    bottom_left_x = x[positions.index('bottom-left')]\n",
    "    bottom_left_y = y[positions.index('bottom-left')]\n",
    "    \n",
    "    bottom_right_x = x[positions.index('bottom-right')]\n",
    "    bottom_right_y = y[positions.index('bottom-right')]\n",
    "    \n",
    "    left_x = min(top_left_x,bottom_left_x)\n",
    "    right_x = max(top_right_x, bottom_right_x)\n",
    "    bottom_y = max(bottom_left_y, bottom_right_y)\n",
    "    top_y = min(top_left_y, top_right_y)\n",
    "\n",
    "    image = cv2.imread(file)[int(top_y):int(bottom_y), int(left_x):int(right_x)]\n",
    "    cv2.imwrite(out+'/'+file.split('/')[-1], image)"
   ]
  },
  {
   "cell_type": "code",
   "execution_count": 5,
   "id": "alien-december",
   "metadata": {},
   "outputs": [],
   "source": [
    "def crop_all(in_dir, out_dir, max_num_to_crop = 1000000000):\n",
    "    for f in listdir(in_dir)[:max_num_to_crop]:\n",
    "        try:\n",
    "            crop_image(in_dir+'/'+f, out_dir)\n",
    "        except:\n",
    "            pass"
   ]
  },
  {
   "cell_type": "code",
   "execution_count": 6,
   "id": "advance-fitness",
   "metadata": {},
   "outputs": [],
   "source": [
    "crop_all('PSA/6', 'Cropped_PSA_v1/6', max_num_to_crop=20)"
   ]
  }
 ],
 "metadata": {
  "kernelspec": {
   "display_name": "Python 3",
   "language": "python",
   "name": "python3"
  },
  "language_info": {
   "codemirror_mode": {
    "name": "ipython",
    "version": 3
   },
   "file_extension": ".py",
   "mimetype": "text/x-python",
   "name": "python",
   "nbconvert_exporter": "python",
   "pygments_lexer": "ipython3",
   "version": "3.8.6"
  }
 },
 "nbformat": 4,
 "nbformat_minor": 5
}
